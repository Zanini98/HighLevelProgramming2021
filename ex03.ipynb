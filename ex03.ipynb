{
 "cells": [
  {
   "cell_type": "markdown",
   "metadata": {},
   "source": [
    "1\\. Write a function that converts numbers among the bin, dec, and hex representations (bin<->dec<->hex)"
   ]
  },
  {
   "cell_type": "code",
   "execution_count": 1,
   "metadata": {},
   "outputs": [
    {
     "name": "stdout",
     "output_type": "stream",
     "text": [
      "{'bin': '0b10100001', 'hex': '0x0a1', 'dec': 161}\n"
     ]
    }
   ],
   "source": [
    "def convert(x,base):\n",
    "    if base==2:\n",
    "        dec=int(x, base)\n",
    "        X={'bin' : x, 'hex' : hex(dec), 'dec':dec}\n",
    "    if base==10:\n",
    "        X={'bin' : bin(x), 'hex' : hex(x), 'dec': x}\n",
    "    if base==16:\n",
    "        dec=int(x, base)\n",
    "        X={'bin' : bin(dec), 'hex' : x, 'dec': dec}\n",
    "    return X\n",
    "print(convert('0x0a1',16))   "
   ]
  },
  {
   "cell_type": "markdown",
   "metadata": {},
   "source": [
    "2\\. Write a function that converts a 32 bit word into a single precision floating point (i.e. interprets the various bits as sign, mantissa and exponent) and check its validity."
   ]
  },
  {
   "cell_type": "code",
   "execution_count": 2,
   "metadata": {},
   "outputs": [
    {
     "name": "stdout",
     "output_type": "stream",
     "text": [
      "s (dec) 0 s (bin) 0\n",
      "e (dec) 7 e (bin) 00000111\n",
      "f (bin) 11000000000000000000000\n",
      "mantissa=1.f= 1.75\n",
      "float value: -1.316553672920962e-36\n"
     ]
    }
   ],
   "source": [
    "x=\"00000011111000000000000000000000\" # -1.316e-36\n",
    "#x=\"11000000101100000000000000000000\" # -5.5\n",
    "def con(x):\n",
    "    s=int(x[0],2)\n",
    "    print(\"s (dec)\",s,\"s (bin)\",x[0])\n",
    "    e=int(x[1:9],2)\n",
    "    print(\"e (dec)\",e,\"e (bin)\",x[1:9])\n",
    "    f=x[9:32]\n",
    "    print(\"f (bin)\",f)\n",
    "    #special cases\n",
    "    if s==0 and e==255 and int(f,2)==0:\n",
    "        return \"+INF\"\n",
    "    if s==1 and e==255 and int(f,2)==0:\n",
    "        return \"-INF\"    \n",
    "    if  e==255 and int(f,2)>0:\n",
    "        return \"NaN\"\n",
    "    l=1\n",
    "    mantissa=1\n",
    "    for i in f:\n",
    "        mantissa= mantissa+(2**-l)*int(i)\n",
    "        l+=1\n",
    "    bias=127\n",
    "    print(\"mantissa=1.f=\",mantissa)\n",
    "    x_float= (-1**s)*(mantissa)*(2**(e-bias))\n",
    "    return x_float\n",
    "\n",
    "print(\"float value:\",con(x))\n",
    "\n"
   ]
  },
  {
   "cell_type": "markdown",
   "metadata": {},
   "source": [
    "3\\. Write a program to determine the underflow and overflow limits (within a factor of 2) for python on your computer. \n",
    "\n",
    "**Tip**: define two variables initialized to 1 and halve/double them for a sufficient amount of times to exceed the under/over-flow limits  "
   ]
  },
  {
   "cell_type": "code",
   "execution_count": 3,
   "metadata": {},
   "outputs": [
    {
     "name": "stdout",
     "output_type": "stream",
     "text": [
      "we reach the max float number:  8.98846567431158e+307  = 2^ 1023\n",
      "next number (a*2 = 2^ 1024 ): inf\n",
      "we reach the min float number:  5e-324  = 2^ -1074\n",
      "next number (a*0.5 = 2^ -1075 ): 0.0\n"
     ]
    }
   ],
   "source": [
    "#overflow\n",
    "i_max=0\n",
    "cont=True\n",
    "while cont:\n",
    "    try:\n",
    "        a=2.0**i_max\n",
    "        i_max+=1\n",
    "    except:\n",
    "        cont=False   \n",
    "print(\"we reach the max float number: \",a,\" = 2^\",i_max-1)\n",
    "print(\"next number (a*2 = 2^\",i_max,\"):\",a*2)\n",
    "\n",
    "\n",
    "# underflow\n",
    "b=1.0\n",
    "result=[]\n",
    "i_min=0\n",
    "while b>0:\n",
    "    result.append(b)\n",
    "    b=b*0.5\n",
    "    i_min+=1\n",
    "\n",
    "print(\"we reach the min float number: \",result[i_min-1],\" = 2^\",-(i_min-1))\n",
    "print(\"next number (a*0.5 = 2^\",-i_min,\"):\",b)\n"
   ]
  },
  {
   "cell_type": "markdown",
   "metadata": {},
   "source": [
    "4\\. Write a program to determine the machine precision\n",
    "\n",
    "**Tip**: define a new variable by adding an increasingly smaller value (in the same way as the previous problem) and check when the addition starts to have no effect on the number"
   ]
  },
  {
   "cell_type": "code",
   "execution_count": 4,
   "metadata": {},
   "outputs": [
    {
     "name": "stdout",
     "output_type": "stream",
     "text": [
      "A: 1.0 B: 1.0 we have no difference if we adding 10^ -16\n",
      "A: 1.0 B: 1.000000000000001 we have difference if we adding 10^ -15\n"
     ]
    }
   ],
   "source": [
    "a=1.0\n",
    "b=2.0\n",
    "i=1\n",
    "while a!=b:\n",
    "    i+=1\n",
    "    a=b\n",
    "    b+=10**-i\n",
    "print(\"A:\",1.0,\"B:\",1+10**-i,\"we have no difference if we adding 10^\",-i)\n",
    "print(\"A:\",1.0,\"B:\",1+10**-(i-1),\"we have difference if we adding 10^\",-(i-1))\n",
    "\n",
    "\n"
   ]
  },
  {
   "cell_type": "markdown",
   "metadata": {},
   "source": [
    "5\\. Write a function that takes in input three parameters $a$, $b$ and $c$ and prints out the two solutions to the quadratic equation $ax^2+bx+c=0$ using the standard formula:\n",
    "$$\n",
    "x=\\frac{-b\\pm\\sqrt{b^2-4ac}}{2a}\n",
    "$$\n",
    "\n",
    "(a) use the program to compute the solution for $a=0.001$, $b=1000$ and $c=0.001$\n",
    "\n",
    "(b) re-express the standard solution formula by multiplying the numerator and the denominator by $-b\\mp\\sqrt{b^2-4ac}$ and again find the solution for $a=0.001$, $b=1000$ and $c=0.001$. How does it compare with what has been previously obtained, and why?\n",
    "\n",
    "(c) write a function that computes the roots of a quadratic equation accurately in all cases"
   ]
  },
  {
   "cell_type": "code",
   "execution_count": 5,
   "metadata": {},
   "outputs": [
    {
     "name": "stdout",
     "output_type": "stream",
     "text": [
      "(-9.999894245993346e-07, -999999.999999)\n",
      "(-1.000000000001e-06, -1000010.5755125057)\n",
      "With the same input now we have two different result, this due to for the operations with small number\n",
      "(-1.000000000001e-06, -999999.999999)\n"
     ]
    }
   ],
   "source": [
    "import math as m\n",
    "def sol1(a,b,c):\n",
    "    x_1=(-b+m.sqrt((b**2)- 4*a*c))/(2*a)\n",
    "    x_2=(-b-m.sqrt((b**2)- 4*a*c))/(2*a)\n",
    "\n",
    "    return x_1, x_2\n",
    "\n",
    "def sol2(a,b,c):\n",
    "    x_1=(2*c)/(-b-m.sqrt((b**2)-4*a*c))\n",
    "    x_2=(2*c)/(-b+m.sqrt((b**2)-4*a*c))  \n",
    "    return x_1, x_2\n",
    "\n",
    "\n",
    "def sol3(a,b,c):\n",
    "\n",
    "    delta=(-4*a*c+ (b**2)) \n",
    "    x_1=(2*c)/(-b-m.sqrt(delta))\n",
    "    x_2=(-b-m.sqrt(delta))/(2*a)\n",
    "\n",
    "  \n",
    "    return x_1, x_2\n",
    "\n",
    "x=0.001\n",
    "y=1000\n",
    "z=0.001\n",
    "print(sol1(x,y,z))\n",
    "print(sol2(x,y,z))\n",
    "print(\"With the same input now we have two different result, this due to for the operations with small number\")\n",
    "print(sol3(x,y,z))"
   ]
  },
  {
   "cell_type": "markdown",
   "metadata": {},
   "source": [
    "6\\. Write a program that implements the function $f(x)=x(x−1)$\n",
    "\n",
    "(a) Calculate the derivative of the function at the point $x = 1$ using the derivative definition:\n",
    "\n",
    "$$\n",
    "\\frac{{\\rm d}f}{{\\rm d}x} = \\lim_{\\delta\\to0} \\frac{f(x+\\delta)-f(x)}{\\delta}\n",
    "$$\n",
    "\n",
    "with $\\delta = 10^{−2}$. Calculate the true value of the same derivative analytically and compare it with the answer your program gives. The two will not agree perfectly. Why?\n",
    "\n",
    "(b) Repeat the calculation for $\\delta = 10^{−4}, 10^{−6}, 10^{−8}, 10^{−10}, 10^{−12}$ and $10^{−14}$. How does the accuracy scales with $\\delta$?"
   ]
  },
  {
   "cell_type": "code",
   "execution_count": 6,
   "metadata": {},
   "outputs": [
    {
     "name": "stdout",
     "output_type": "stream",
     "text": [
      "derivate of f in 1: 1.010000000000001 with delta: 0.01 with error : 0.010000000000000897\n",
      "derivate of f in 1: 1.0000999999998899 with delta: 0.0001 with error : 9.999999988985486e-05\n",
      "derivate of f in 1: 1.0000009999177333 with delta: 1e-06 with error : 9.99917733279787e-07\n",
      "derivate of f in 1: 1.0000000039225287 with delta: 1e-08 with error : 3.922528746258536e-09\n",
      "derivate of f in 1: 1.000000082840371 with delta: 1e-10 with error : 8.284037100736441e-08\n",
      "derivate of f in 1: 1.0000889005833413 with delta: 1e-12 with error : 8.890058334132256e-05\n",
      "derivate of f in 1: 0.9992007221626509 with delta: 1e-14 with error : 0.0007992778373491216\n",
      "Decreasing the value of delta until 10^-8 decrease also the error, but if we continue to decrease the error increases \n"
     ]
    }
   ],
   "source": [
    "#function f\n",
    "def f(x):\n",
    "    return x*(x-1)\n",
    "#a\n",
    "delta=10**-2\n",
    "derivate=(f(1+delta)-f(1))/delta\n",
    "print(\"derivate of f in 1:\",derivate,\"with delta:\",delta, \"with error :\",abs(1-derivate))\n",
    "#b\n",
    "delta=[10**-4,10**-6,10**-8,10**-10,10**-12,10**-14]\n",
    "\n",
    "for i in delta:\n",
    "    derivate=((f(1+i)-f(1))/i)\n",
    "    print(\"derivate of f in 1:\",derivate,\"with delta:\",i, \"with error :\",abs(1-derivate))\n",
    "print(\"Decreasing the value of delta until 10^-8 decrease also the error, but if we continue to decrease the error increases \")"
   ]
  },
  {
   "cell_type": "markdown",
   "metadata": {},
   "source": [
    "7\\. Consider the integral of the semicircle of radius 1:\n",
    "$$\n",
    "I=\\int_{-1}^{1} \\sqrt(1-x^2) {\\rm d}x\n",
    "$$\n",
    "which is known to be $I=\\frac{\\pi}{2}=1.57079632679...$.\n",
    "\n",
    "Alternatively we can use the Riemann definition of the integral:\n",
    "$$\n",
    "I=\\lim_{N\\to\\infty} \\sum_{k=1}^{N} h y_k \n",
    "$$\n",
    "\n",
    "with $h=2/N$ the width of each of the $N$ slices the domain is divided into and where\n",
    "$y_k$ is the value of the function at the $k-$th slice.\n",
    "\n",
    "(a) Write a program to compute the integral with $N=100$. How does the result compare to the true value?\n",
    "\n",
    "(b) How much can $N$ be increased if the computation needs to be run in less than a second? What is the gain in running it for 1 minute? \n"
   ]
  },
  {
   "cell_type": "code",
   "execution_count": 9,
   "metadata": {},
   "outputs": [
    {
     "name": "stdout",
     "output_type": "stream",
     "text": [
      "time: 0.00015783309936523438 with N: 100 compute I= 1.5802085158895227 Real I= 1.5707963267948966  error: 0.009412189094626155\n",
      "With only N=100, the value computed is relatively close to the true value\n",
      "time: 1.1348600387573242 with N: 2007542 compute I= 1.5707968496000329 Real I= 1.5707963267948966  error: 5.228051362937691e-07\n",
      "time: 68.69402408599854 with N: 120000000 compute I= 1.5707963351280303 Real I= 1.5707963267948966  error: 8.333133738602783e-09\n",
      "Running for one minute we decrease the error of a factor 10^-2 in respect than running 1 second\n"
     ]
    }
   ],
   "source": [
    "import time\n",
    "\n",
    "#a\n",
    "N=100\n",
    "h=2/N\n",
    "I=0\n",
    "I_true=m.pi/2\n",
    "y=[]\n",
    "start = time.time()\n",
    "\n",
    "for k in range(0,N+1):\n",
    "    y.append((1-(-1+k/N)**2)**0.5)\n",
    "    I+=h*y[k]\n",
    "    end = time.time()\n",
    "print(\"time:\",end - start,\"with N:\",N, \"compute I=\",I,\"Real I=\",I_true,\" error:\",abs(I_true-I))\n",
    "\n",
    "print(\"With only N=100, the value computed is relatively close to the true value\")\n",
    "#b\n",
    "time_tot=0\n",
    "while time_tot<1:\n",
    "    h=2/N\n",
    "    I=0\n",
    "    y=[]\n",
    "    start = time.time()\n",
    "    for k in range(0,N+1):\n",
    "        y.append((1-(-1+k/N)**2)**0.5)\n",
    "        I+=h*y[k]\n",
    "    end = time.time()\n",
    "    time_tot=end-start\n",
    "    N=round(N*1.05)\n",
    "print(\"time:\",time_tot,\"with N:\",N, \"compute I=\",I,\"Real I=\",I_true,\" error:\",abs(I_true-I))\n",
    "\n",
    "\n",
    "\n",
    "\n",
    "N=120000000 #found after some attempts -> about 68 sec of running \n",
    "h=2/N\n",
    "I=0\n",
    "y=[]\n",
    "start = time.time()\n",
    "for k in range(0,N+1):\n",
    "    y.append((1-(-1+k/N)**2)**0.5)\n",
    "    I+=h*y[k]\n",
    "end = time.time()\n",
    "time_tot=end-start\n",
    "print(\"time:\",time_tot,\"with N:\",N, \"compute I=\",I,\"Real I=\",I_true,\" error:\",abs(I_true-I))   \n",
    "\n",
    "\n",
    "print(\"Running for one minute we decrease the error of a factor 10^-2 in respect than running 1 second\")"
   ]
  }
 ],
 "metadata": {
  "kernelspec": {
   "display_name": "Python 3",
   "language": "python",
   "name": "python3"
  },
  "language_info": {
   "codemirror_mode": {
    "name": "ipython",
    "version": 3
   },
   "file_extension": ".py",
   "mimetype": "text/x-python",
   "name": "python",
   "nbconvert_exporter": "python",
   "pygments_lexer": "ipython3",
   "version": "3.8.8"
  }
 },
 "nbformat": 4,
 "nbformat_minor": 2
}
