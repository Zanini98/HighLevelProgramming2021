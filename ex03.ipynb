{
 "cells": [
  {
   "cell_type": "markdown",
   "metadata": {},
   "source": [
    "1\\. Write a function that converts numbers among the bin, dec, and hex representations (bin<->dec<->hex)"
   ]
  },
  {
   "cell_type": "code",
   "execution_count": 35,
   "metadata": {},
   "outputs": [
    {
     "name": "stdout",
     "output_type": "stream",
     "text": [
      "{'bin': '0b1010', 'hex': '0xa', 'dec': 10}\n"
     ]
    }
   ],
   "source": [
    "def convert(x,base):\n",
    "    if base==2:\n",
    "        dec=int(x, base)\n",
    "        X={'bin' : x, 'hex' : hex(dec), 'dec':dec}\n",
    "    if base==10:\n",
    "        X={'bin' : bin(x), 'hex' : hex(x), 'dec': x}\n",
    "    if base==16:\n",
    "        dec=int(x, base)\n",
    "        X={'bin' : bin(dec), 'hex' : x, 'dec': dec}\n",
    "    return X\n",
    "\n",
    "\n",
    "a=convert(10,10)\n",
    "print(a)   "
   ]
  },
  {
   "cell_type": "markdown",
   "metadata": {},
   "source": [
    "2\\. Write a function that converts a 32 bit word into a single precision floating point (i.e. interprets the various bits as sign, mantissa and exponent) and check its validity."
   ]
  },
  {
   "cell_type": "code",
   "execution_count": 127,
   "metadata": {},
   "outputs": [
    {
     "name": "stdout",
     "output_type": "stream",
     "text": [
      "0\n",
      "125\n",
      "1.9977073669433594\n",
      "0.49942684173583984\n"
     ]
    }
   ],
   "source": [
    "x=\"00111110111111111101101001110010\"\n",
    "    \n",
    "def con(x):\n",
    "    s=int(x[0],2)\n",
    "    e=int(x[1:9],2)\n",
    "    f=x[10:32]\n",
    "    \n",
    "    mantissa=1\n",
    "    for n in range(1,len(f)-1):\n",
    "        mantissa= mantissa+pow(2,-n)*int(f[n-1])\n",
    "        \n",
    "    bias=127\n",
    "    print(s)\n",
    "    print(e)\n",
    "    print(mantissa)\n",
    "    x_float= pow(-1,s)*(mantissa)*pow(2,e-bias)\n",
    "    return x_float\n",
    "\n",
    "print(con(x))"
   ]
  },
  {
   "cell_type": "markdown",
   "metadata": {},
   "source": [
    "3\\. Write a program to determine the underflow and overflow limits (within a factor of 2) for python on your computer. \n",
    "\n",
    "**Tip**: define two variables initialized to 1 and halve/double them for a sufficient amount of times to exceed the under/over-flow limits  "
   ]
  },
  {
   "cell_type": "code",
   "execution_count": 150,
   "metadata": {},
   "outputs": [
    {
     "name": "stdout",
     "output_type": "stream",
     "text": [
      "64\n",
      "9223372036854775808\n",
      "151\n",
      "7.006492321624085e-46\n"
     ]
    }
   ],
   "source": [
    "import sys\n",
    "\n",
    "a=1\n",
    "i_max=1\n",
    "while a<sys.maxsize:\n",
    "    i_max+=1\n",
    "    a=a*2\n",
    "print(i_max)\n",
    "print(a)\n",
    "b=1\n",
    "i_min=1\n",
    "minNumber=1.40129846432e-45\n",
    "while b>minNumber:\n",
    "    i_min+=1\n",
    "    b=b*0.5\n",
    "print(i_min)\n",
    "print(b)"
   ]
  },
  {
   "cell_type": "markdown",
   "metadata": {},
   "source": [
    "4\\. Write a program to determine the machine precision\n",
    "\n",
    "**Tip**: define a new variable by adding an increasingly smaller value (in the same way as the previous problem) and check when the addition starts to have no effect on the number"
   ]
  },
  {
   "cell_type": "code",
   "execution_count": 151,
   "metadata": {},
   "outputs": [
    {
     "name": "stdout",
     "output_type": "stream",
     "text": [
      "16\n",
      "5.011111111111111\n"
     ]
    }
   ],
   "source": [
    "a=1\n",
    "b=5\n",
    "i=1\n",
    "while a!=b:\n",
    "    i+=1\n",
    "    a=b\n",
    "    b+=10**-i\n",
    "    \n",
    "print(i)\n",
    "print(b)"
   ]
  },
  {
   "cell_type": "markdown",
   "metadata": {},
   "source": [
    "5\\. Write a function that takes in input three parameters $a$, $b$ and $c$ and prints out the two solutions to the quadratic equation $ax^2+bx+c=0$ using the standard formula:\n",
    "$$\n",
    "x=\\frac{-b\\pm\\sqrt{b^2-4ac}}{2a}\n",
    "$$\n",
    "\n",
    "(a) use the program to compute the solution for $a=0.001$, $b=1000$ and $c=0.001$\n",
    "\n",
    "(b) re-express the standard solution formula by multiplying the numerator and the denominator by $-b\\mp\\sqrt{b^2-4ac}$ and again find the solution for $a=0.001$, $b=1000$ and $c=0.001$. How does it compare with what has been previously obtained, and why?\n",
    "\n",
    "(c) write a function that computes the roots of a quadratic equation accurately in all cases"
   ]
  },
  {
   "cell_type": "code",
   "execution_count": 173,
   "metadata": {},
   "outputs": [
    {
     "name": "stdout",
     "output_type": "stream",
     "text": [
      "(-2.0, 2.0)\n",
      "(8.0, 8.0)\n"
     ]
    }
   ],
   "source": [
    "def sol2(a,b,c):\n",
    "    x_1=(-b +((b**2)- (4*a*c)**0.5))/(2*a)\n",
    "    x_2=(-b -((b**2)- (4*a*c)**0.5))/(2*a)\n",
    "\n",
    "    return x_1, x_2\n",
    "\n",
    "def sol22(a,b,c):\n",
    "    \n",
    "    x_1=(-b +((b**2)- (4*a*c)**0.5))**2/(2*a)\n",
    "    x_2=(-b -((b**2)- (4*a*c)**0.5))**2/(2*a)\n",
    "\n",
    "    return x_1, x_2\n",
    "print(sol2(1,0,4))\n",
    "print(sol22(1,0,4))"
   ]
  },
  {
   "cell_type": "markdown",
   "metadata": {},
   "source": [
    "6\\. Write a program that implements the function $f(x)=x(x−1)$\n",
    "\n",
    "(a) Calculate the derivative of the function at the point $x = 1$ using the derivative definition:\n",
    "\n",
    "$$\n",
    "\\frac{{\\rm d}f}{{\\rm d}x} = \\lim_{\\delta\\to0} \\frac{f(x+\\delta)-f(x)}{\\delta}\n",
    "$$\n",
    "\n",
    "with $\\delta = 10^{−2}$. Calculate the true value of the same derivative analytically and compare it with the answer your program gives. The two will not agree perfectly. Why?\n",
    "\n",
    "(b) Repeat the calculation for $\\delta = 10^{−4}, 10^{−6}, 10^{−8}, 10^{−10}, 10^{−12}$ and $10^{−14}$. How does the accuracy scales with $\\delta$?"
   ]
  },
  {
   "cell_type": "code",
   "execution_count": null,
   "metadata": {},
   "outputs": [],
   "source": []
  },
  {
   "cell_type": "markdown",
   "metadata": {},
   "source": [
    "7\\. Consider the integral of the semicircle of radius 1:\n",
    "$$\n",
    "I=\\int_{-1}^{1} \\sqrt(1-x^2) {\\rm d}x\n",
    "$$\n",
    "which is known to be $I=\\frac{\\pi}{2}=1.57079632679...$.\n",
    "\n",
    "Alternatively we can use the Riemann definition of the integral:\n",
    "$$\n",
    "I=\\lim_{N\\to\\infty} \\sum_{k=1}^{N} h y_k \n",
    "$$\n",
    "\n",
    "with $h=2/N$ the width of each of the $N$ slices the domain is divided into and where\n",
    "$y_k$ is the value of the function at the $k-$th slice.\n",
    "\n",
    "(a) Write a program to compute the integral with $N=100$. How does the result compare to the true value?\n",
    "\n",
    "(b) How much can $N$ be increased if the computation needs to be run in less than a second? What is the gain in running it for 1 minute? \n"
   ]
  },
  {
   "cell_type": "code",
   "execution_count": null,
   "metadata": {},
   "outputs": [],
   "source": []
  }
 ],
 "metadata": {
  "kernelspec": {
   "display_name": "Python 3",
   "language": "python",
   "name": "python3"
  },
  "language_info": {
   "codemirror_mode": {
    "name": "ipython",
    "version": 3
   },
   "file_extension": ".py",
   "mimetype": "text/x-python",
   "name": "python",
   "nbconvert_exporter": "python",
   "pygments_lexer": "ipython3",
   "version": "3.7.0"
  }
 },
 "nbformat": 4,
 "nbformat_minor": 2
}
