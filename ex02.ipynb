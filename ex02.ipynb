{
 "cells": [
  {
   "cell_type": "markdown",
   "metadata": {},
   "source": [
    "1. Write the following expressions using the list comprehension"
   ]
  },
  {
   "cell_type": "code",
   "execution_count": 69,
   "metadata": {},
   "outputs": [
    {
     "name": "stdout",
     "output_type": "stream",
     "text": [
      "[(0, 0), (0, 1), (0, 2), (0, 3), (1, 0), (1, 1), (1, 2), (1, 3), (2, 0), (2, 1), (2, 2), (2, 3)]\n",
      "[(0, 0), (0, 1), (0, 2), (0, 3), (1, 0), (1, 1), (1, 2), (1, 3), (2, 0), (2, 1), (2, 2), (2, 3)]\n",
      "[1, 9, 25, 49, 81]\n",
      "[1, 9, 25, 49, 81]\n"
     ]
    }
   ],
   "source": [
    "# 1\n",
    "ans = []\n",
    "for i in range(3):\n",
    "    for j in range(4):\n",
    "        ans.append((i, j))\n",
    "print(ans)\n",
    "\n",
    "# with list comprehension\n",
    "ans1=[(i,j) for i in range(3) for j in range(4)]\n",
    "print(ans1)\n",
    "\n",
    "\n",
    "# 2\n",
    "ans = map(lambda x: x * x, filter(lambda x: x % 2 == 1, range(10)))\n",
    "print(list(ans))\n",
    "\n",
    "# with list comprehension\n",
    "ans2=[  x*x for x in range(10) if x % 2 == 1] \n",
    "print(ans2)"
   ]
  },
  {
   "cell_type": "markdown",
   "metadata": {},
   "source": [
    "2\\. Convert the function $f$ into a function that doesn't use global variables and that does not modify the original list"
   ]
  },
  {
   "cell_type": "code",
   "execution_count": 70,
   "metadata": {},
   "outputs": [
    {
     "name": "stdout",
     "output_type": "stream",
     "text": [
      "[1, 2, 3, 0, 1, 2, 3, 4]\n",
      "[1, 2, 3, 0, 1, 2, 3, 4]\n",
      "[1, 2, 3, 0, 1, 2, 3, 4]\n",
      "[1, 2, 3]\n"
     ]
    }
   ],
   "source": [
    "x = 5\n",
    "def f(alist):\n",
    "    for i in range(x):\n",
    "         alist.append(i)\n",
    "    return alist\n",
    "\n",
    "alist = [1,2,3]\n",
    "ans = f(alist)\n",
    "print(ans)\n",
    "print(alist) # alist has been changed!\n",
    "\n",
    "\n",
    "# function without global variables and does not modify the original list\n",
    "def f_nochange(alist2,n):\n",
    "    list_temp=list(alist2)\n",
    "    for i in range(n):\n",
    "         list_temp.append(i)\n",
    "    return list_temp\n",
    "\n",
    "alist1 = [1,2,3]\n",
    "ans1 = f_nochange(alist1,5)\n",
    "print(ans1)\n",
    "print(alist1)\n",
    "\n",
    "\n"
   ]
  },
  {
   "cell_type": "markdown",
   "metadata": {},
   "source": [
    "3\\. Write a `decorator` hello that makes every wrapped function print “Hello!”, i.e. something like:\n",
    "\n",
    "```python\n",
    "@hello\n",
    "def square(x):\n",
    "    return x*x\n",
    "```\n",
    "\n"
   ]
  },
  {
   "cell_type": "code",
   "execution_count": 71,
   "metadata": {},
   "outputs": [
    {
     "name": "stdout",
     "output_type": "stream",
     "text": [
      "Hello!\n",
      "64\n",
      "Hello!\n"
     ]
    }
   ],
   "source": [
    "n=8\n",
    "def Hello(func):\n",
    "    def wrapper():\n",
    "        func()\n",
    "        square(n)\n",
    "        func()\n",
    "    return wrapper\n",
    "\n",
    "@Hello\n",
    "def say_hello():\n",
    "    print(\"Hello!\")\n",
    "def square(x):\n",
    "    return print(x*x)   \n",
    "say_hello()\n",
    "\n"
   ]
  },
  {
   "cell_type": "markdown",
   "metadata": {},
   "source": [
    "4\\. Write the factorial function in two different ways, so that it a) does and b) does not use recursion."
   ]
  },
  {
   "cell_type": "code",
   "execution_count": 72,
   "metadata": {},
   "outputs": [
    {
     "name": "stdout",
     "output_type": "stream",
     "text": [
      "3628800\n",
      "3628800\n"
     ]
    }
   ],
   "source": [
    "#with recursion\n",
    "def factorial1(x):\n",
    "    if(x==1 or x==0):\n",
    "        return 1\n",
    "    return x*factorial1(x-1)\n",
    "\n",
    "print(factorial1(10))\n",
    "\n",
    "#without recursion\n",
    "def factorial2(x):   \n",
    "    fat=[]\n",
    "    fat.insert(0,1)\n",
    "    for i in range(1,x+1):\n",
    "            fat.insert(i,fat[i-1]*i)\n",
    "    return fat[x]\n",
    "    \n",
    "print(factorial2(10))\n"
   ]
  },
  {
   "cell_type": "markdown",
   "metadata": {},
   "source": [
    "5\\. Use HOFs (zip in particular) to compute the weight of a circle, a disk and a sphere, assuming different radii and different densities:\n",
    "\n",
    "```python\n",
    "densities = {\"Al\" : [0.5, 1, 2], \"Fe\" : [3, 4, 5], \"Pb\" : [15, 20, 30]}\n",
    "radii = [1, 2, 3]\n",
    "```\n",
    "\n",
    "where the entries of the dictionary's values are the linear, superficial and volumetric densities of the materials respectively.\n",
    "\n",
    "Subsequently, define a list using a comprehension with three lambda functions that compute the circumference, the area and the volume for a given radius.\n"
   ]
  },
  {
   "cell_type": "code",
   "execution_count": 73,
   "metadata": {},
   "outputs": [
    {
     "name": "stdout",
     "output_type": "stream",
     "text": [
      "Material Al circle: 3.141592653589793 Disk:  6.283185307179586 Sphere:  8.377580409572781\n",
      "Material Fe circle: 18.84955592153876 Disk:  25.132741228718345 Sphere:  20.943951023931955\n",
      "Material Pb circle: 94.24777960769379 Disk:  125.66370614359172 Sphere:  125.66370614359172\n",
      "Material Al circle: 6.283185307179586 Disk:  25.132741228718345 Sphere:  67.02064327658225\n",
      "Material Fe circle: 37.69911184307752 Disk:  100.53096491487338 Sphere:  167.55160819145564\n",
      "Material Pb circle: 188.49555921538757 Disk:  502.6548245743669 Sphere:  1005.3096491487338\n",
      "Material Al circle: 9.42477796076938 Disk:  56.548667764616276 Sphere:  226.19467105846508\n",
      "Material Fe circle: 56.548667764616276 Disk:  226.1946710584651 Sphere:  565.4866776461628\n",
      "Material Pb circle: 282.74333882308133 Disk:  1130.9733552923256 Sphere:  3392.9200658769764\n",
      "Radius= 1 Circle:  6.283185307179586 Disk:  6.283185307179586 Sphere:  4.1887902047863905\n",
      "Radius= 2 Circle:  12.566370614359172 Disk:  25.132741228718345 Sphere:  33.510321638291124\n",
      "Radius= 3 Circle:  18.84955592153876 Disk:  56.548667764616276 Sphere:  113.09733552923254\n"
     ]
    }
   ],
   "source": [
    "import math\n",
    "densities = {\"Al\" : [0.5, 1, 2], \"Fe\" : [3, 4, 5], \"Pb\" : [15, 20, 30]}\n",
    "radii = [1, 2, 3]\n",
    "\n",
    "for d,r in zip(densities,radii):\n",
    "    for i in densities:\n",
    "        w_circle=densities[i][0]* 2* math.pi * r\n",
    "        w_disk= densities[i][1]* 2* math.pi * r**2\n",
    "        w_sphere= densities[i][2]* 4/3 * math.pi * r**3\n",
    "        print(\"Material\",i,\"circle:\",w_circle, \"Disk: \", w_disk, \"Sphere: \", w_sphere)\n",
    "\n",
    "Circle1 = lambda ra:  2* math.pi * ra\n",
    "disk1 =   lambda ra:  2* math.pi * ra**2\n",
    "Sphera1 = lambda ra:  4/3 * math.pi * ra**3\n",
    "\n",
    "circle=[Circle1(r) for r in radii ] \n",
    "disk=[disk1(r) for r in radii ] \n",
    "sphera=[Sphera1(r) for r in radii ] \n",
    "\n",
    "for i in range(len(radii)):\n",
    "    print(\"Radius=\",radii[i],\"Circle: \",circle[i],\"Disk: \",disk[i],\"Sphere: \",sphera[i])"
   ]
  },
  {
   "cell_type": "markdown",
   "metadata": {},
   "source": [
    "6\\. Edit the class defintion to add an instance attribute of `is_hungry = True` to the Dog class. Then add a method called `eat()` which changes the value of `is_hungry` to `False` when called. Figure out the best way to instantiate the dog objects and to feed the dogs, e.g. call the `eat()` method for all instances. Finally, print “My dogs are hungry.” or “My dogs are not hungry.” if all of them have `is_hungry = True` or `False`, respectively. The final output should look like this:\n",
    "\n",
    "`I have 3 dogs. \n",
    "Tom is 6. \n",
    "Fletcher is 7. \n",
    "Larry is 9. \n",
    "And they're all mammals, of course. \n",
    "My dogs are not hungry.\n",
    "`\n",
    "\n",
    "```python\n",
    "# Parent class\n",
    "class Dog:\n",
    "\n",
    "    # Class attribute\n",
    "    species = 'mammal'\n",
    "\n",
    "    # Initializer / Instance attributes\n",
    "    def __init__(self, name, age):\n",
    "        self.name = name\n",
    "        self.age = age\n",
    "\n",
    "    # instance method\n",
    "    def description(self):\n",
    "        return \"{} is {} years old\".format(self.name, self.age)\n",
    "\n",
    "    # instance method\n",
    "    def speak(self, sound):\n",
    "        return \"{} says {}\".format(self.name, sound)\n",
    "\n",
    "# Child class (inherits from Dog class)\n",
    "class RussellTerrier(Dog):\n",
    "    def run(self, speed):\n",
    "        return \"{} runs {}\".format(self.name, speed)\n",
    "\n",
    "# Child class (inherits from Dog class)\n",
    "class Bulldog(Dog):\n",
    "    def run(self, speed):\n",
    "        return \"{} runs {}\".format(self.name, speed)\n",
    "```"
   ]
  },
  {
   "cell_type": "code",
   "execution_count": 74,
   "metadata": {},
   "outputs": [
    {
     "name": "stdout",
     "output_type": "stream",
     "text": [
      "I have 3 dogs\n",
      "Tom is 6 years old\n",
      "Fletcher is 7 years old\n",
      "Larry is 6 years old\n",
      "And they're all mammals, of course. \n",
      "My dogs are not hungry.\n"
     ]
    }
   ],
   "source": [
    "# Parent class\n",
    "class Dog:\n",
    "\n",
    "    # Class attribute\n",
    "    species = 'mammal'\n",
    "    is_hungry = True\n",
    "    \n",
    "    # Initializer / Instance attributes\n",
    "    def __init__(self, name, age):\n",
    "        self.name = name\n",
    "        self.age = age\n",
    "\n",
    "    # instance method\n",
    "    def description(self):\n",
    "        return \"{} is {} years old\".format(self.name, self.age)\n",
    "\n",
    "    # instance method\n",
    "    def speak(self, sound):\n",
    "        return \"{} says {}\".format(self.name, sound)\n",
    "    \n",
    "    \n",
    "    # instance method\n",
    "    def eat(self):\n",
    "        self.is_hungry= False \n",
    "        \n",
    "\n",
    "# Child class (inherits from Dog class)\n",
    "class RussellTerrier(Dog):\n",
    "    def run(self, speed):\n",
    "        return \"{} runs {}\".format(self.name, speed)\n",
    "\n",
    "# Child class (inherits from Dog class)\n",
    "class Bulldog(Dog):\n",
    "    def run(self, speed):\n",
    "        return \"{} runs {}\".format(self.name, speed)\n",
    "    \n",
    "    \n",
    "    \n",
    "Tom_dog= Dog(\"Tom\",6)\n",
    "Fletcher_dog= Dog(\"Fletcher\",7)\n",
    "Larry_dog= Dog(\"Larry\",6)\n",
    "\n",
    "print(\"I have 3 dogs\")\n",
    "print(Tom_dog.description())\n",
    "print(Fletcher_dog.description())\n",
    "print(Larry_dog.description())\n",
    "\n",
    "Tom_dog.eat()\n",
    "Fletcher_dog.eat()\n",
    "Larry_dog.eat()\n",
    "\n",
    "if (Tom_dog.species and Fletcher_dog.species and Larry_dog.species):\n",
    "    print(\"And they're all mammals, of course. \")\n",
    "else:\n",
    "    print(\"And they're not all mammals, of course. \")\n",
    "    \n",
    "if not(Tom_dog.is_hungry or Fletcher_dog.is_hungry or Larry_dog.is_hungry):\n",
    "    print(\"My dogs are not hungry.\")\n",
    "else:\n",
    "    print(\"My dogs are hungry.\")\n"
   ]
  }
 ],
 "metadata": {
  "kernelspec": {
   "display_name": "Python 3",
   "language": "python",
   "name": "python3"
  },
  "language_info": {
   "codemirror_mode": {
    "name": "ipython",
    "version": 3
   },
   "file_extension": ".py",
   "mimetype": "text/x-python",
   "name": "python",
   "nbconvert_exporter": "python",
   "pygments_lexer": "ipython3",
   "version": "3.8.8"
  }
 },
 "nbformat": 4,
 "nbformat_minor": 2
}
