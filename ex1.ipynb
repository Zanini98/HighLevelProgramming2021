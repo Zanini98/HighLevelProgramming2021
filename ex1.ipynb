{
 "cells": [
  {
   "cell_type": "code",
   "execution_count": 13,
   "metadata": {
    "collapsed": false
   },
   "outputs": [
    {
     "name": "stdout",
     "output_type": "stream",
     "text": [
      "1\n",
      "2\n",
      "Hello\n",
      "4\n",
      "World\n",
      "Hello\n",
      "7\n",
      "8\n",
      "Hello\n",
      "World\n",
      "11\n",
      "Hello\n",
      "13\n",
      "14\n",
      "HelloWorld\n",
      "16\n",
      "17\n",
      "Hello\n",
      "19\n",
      "World\n",
      "Hello\n",
      "22\n",
      "23\n",
      "Hello\n",
      "World\n",
      "26\n",
      "Hello\n",
      "28\n",
      "29\n",
      "HelloWorld\n",
      "31\n",
      "32\n",
      "Hello\n",
      "34\n",
      "World\n",
      "Hello\n",
      "37\n",
      "38\n",
      "Hello\n",
      "World\n",
      "41\n",
      "Hello\n",
      "43\n",
      "44\n",
      "HelloWorld\n",
      "46\n",
      "47\n",
      "Hello\n",
      "49\n",
      "World\n",
      "Hello\n",
      "52\n",
      "53\n",
      "Hello\n",
      "World\n",
      "56\n",
      "Hello\n",
      "58\n",
      "59\n",
      "HelloWorld\n",
      "61\n",
      "62\n",
      "Hello\n",
      "64\n",
      "World\n",
      "Hello\n",
      "67\n",
      "68\n",
      "Hello\n",
      "World\n",
      "71\n",
      "Hello\n",
      "73\n",
      "74\n",
      "HelloWorld\n",
      "76\n",
      "77\n",
      "Hello\n",
      "79\n",
      "World\n",
      "Hello\n",
      "82\n",
      "83\n",
      "Hello\n",
      "World\n",
      "86\n",
      "Hello\n",
      "88\n",
      "89\n",
      "HelloWorld\n",
      "91\n",
      "92\n",
      "Hello\n",
      "94\n",
      "World\n",
      "Hello\n",
      "97\n",
      "98\n",
      "Hello\n",
      "World\n",
      "(1, 2, 'Python', 4, 'Works', 'Python', 7, 8, 'Python', 'Works', 11, 'Python', 13, 14, 'HelloWorld', 16, 17, 'Python', 19, 'Works', 'Python', 22, 23, 'Python', 'Works', 26, 'Python', 28, 29, 'HelloWorld', 31, 32, 'Python', 34, 'Works', 'Python', 37, 38, 'Python', 'Works', 41, 'Python', 43, 44, 'HelloWorld', 46, 47, 'Python', 49, 'Works', 'Python', 52, 53, 'Python', 'Works', 56, 'Python', 58, 59, 'HelloWorld', 61, 62, 'Python', 64, 'Works', 'Python', 67, 68, 'Python', 'Works', 71, 'Python', 73, 74, 'HelloWorld', 76, 77, 'Python', 79, 'Works', 'Python', 82, 83, 'Python', 'Works', 86, 'Python', 88, 89, 'HelloWorld', 91, 92, 'Python', 94, 'Works', 'Python', 97, 98, 'Python', 'Works')\n"
     ]
    }
   ],
   "source": [
    "tupla_list=[]\n",
    "tupla=()\n",
    "for i in range(1,101): \n",
    "    if (i % 3 == 0 and i % 5 == 0):\n",
    "        print(\"HelloWorld\")\n",
    "        tupla_list.insert(i,\"HelloWorld\")\n",
    "    elif i% 5 ==0:\n",
    "        print(\"World\")\n",
    "        tupla_list.insert(i,\"Works\")\n",
    "\n",
    "    elif ( i % 3 == 0):\n",
    "        print(\"Hello\")\n",
    "        tupla_list.insert(i,\"Python\")\n",
    "\n",
    "    else:\n",
    "        tupla_list.insert(i,i)\n",
    "        print(i)\n",
    "        \n",
    "tupla=tuple(tupla_list)\n",
    "print(tupla)\n"
   ]
  },
  {
   "cell_type": "code",
   "execution_count": 16,
   "metadata": {
    "collapsed": false
   },
   "outputs": [
    {
     "name": "stdout",
     "output_type": "stream",
     "text": [
      "(2, 1)\n"
     ]
    }
   ],
   "source": [
    "\n",
    "def swap(a, b):\n",
    "    \n",
    "    temp=a\n",
    "    a=b\n",
    "    b=temp\n",
    "    \n",
    "    return [a,b]\n",
    "\n",
    "[a,b]=swap(1,2)\n",
    "print(a,b)\n"
   ]
  },
  {
   "cell_type": "code",
   "execution_count": 19,
   "metadata": {
    "collapsed": false
   },
   "outputs": [
    {
     "name": "stdout",
     "output_type": "stream",
     "text": [
      "5.0\n"
     ]
    }
   ],
   "source": [
    "import math\n",
    "def distancecal(x,y):\n",
    "    dist=math.sqrt(math.pow(x[0]-y[0],2)+ math.pow(x[1]-y[1],2))\n",
    "    return dist\n",
    "\n",
    "\n",
    "a=(3,0)\n",
    "b=(0,4)\n",
    "\n",
    "dist=distancecal(a,b)\n",
    "print(dist)"
   ]
  },
  {
   "cell_type": "code",
   "execution_count": 63,
   "metadata": {
    "collapsed": false
   },
   "outputs": [
    {
     "name": "stdout",
     "output_type": "stream",
     "text": [
      "[7, 5, 1, 5, 20, 10, 1, 11, 12, 0, 0, 12, 8, 10, 15, 8, 0, 19, 7, 19, 7, 2, 4, 0, 0, 0]\n",
      "26\n"
     ]
    }
   ],
   "source": [
    "s = \"Write a program that prints the numbers from 1 to 100. \\\n",
    "But for multiples of three print Hello instead of the number and for the multiples of five print World. \\\n",
    "For numbers which are multiples of both three and five print HelloWorld.\"\n",
    "\n",
    "a=s.lower()\n",
    "\n",
    "alphabet=['a', 'b', 'c', 'd', 'e', 'f', 'g', 'h', 'i', 'j', 'k', 'l', 'm', 'n', 'o', 'p', 'q', 'r', 's', 't', 'u', 'v', 'w', 'x', 'y', 'z']\n",
    "aa=alphabet*0\n",
    "for i in range(0,len(alphabet)):\n",
    "    aa.insert(i,a.count(alphabet[i]))\n",
    "print(aa)\n"
   ]
  },
  {
   "cell_type": "code",
   "execution_count": null,
   "metadata": {
    "collapsed": true
   },
   "outputs": [],
   "source": []
  }
 ],
 "metadata": {
  "anaconda-cloud": {},
  "kernelspec": {
   "display_name": "Python [default]",
   "language": "python",
   "name": "python2"
  },
  "language_info": {
   "codemirror_mode": {
    "name": "ipython",
    "version": 2
   },
   "file_extension": ".py",
   "mimetype": "text/x-python",
   "name": "python",
   "nbconvert_exporter": "python",
   "pygments_lexer": "ipython2",
   "version": "2.7.12"
  }
 },
 "nbformat": 4,
 "nbformat_minor": 1
}
