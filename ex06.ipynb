{
 "cells": [
  {
   "cell_type": "code",
   "execution_count": 42,
   "metadata": {},
   "outputs": [],
   "source": [
    "import pandas as pd\n",
    "import numpy as np\n",
    "import json\n",
    "import csv"
   ]
  },
  {
   "cell_type": "markdown",
   "metadata": {},
   "source": [
    "1\\. Perform the following operations on plain `txt` files:\n",
    "\n",
    "+ create a list of integrer numbers and then save it to a text file named \"data_int.txt\". Run the `cat` command to print the content of the file.\n",
    "+ create a matrix of 5x5 floats and then save it to a text file named \"data_float.txt\". Use the `cat` command to print the content of the file.\n",
    "+ load the txt file of the previous point and convert it to a csv file by hand."
   ]
  },
  {
   "cell_type": "code",
   "execution_count": 119,
   "metadata": {},
   "outputs": [
    {
     "name": "stdout",
     "output_type": "stream",
     "text": [
      "[0, 1, 2, 3, 4, 5, 6, 7, 8, 9]\n",
      "[0, 1, 2, 3, 4, 5, 6, 7, 8, 9]\n",
      "[[1. 1. 1. 1. 1.]\n",
      " [1. 1. 1. 1. 1.]\n",
      " [1. 1. 1. 1. 1.]\n",
      " [1. 1. 1. 1. 1.]\n",
      " [1. 1. 1. 1. 1.]]\n"
     ]
    }
   ],
   "source": [
    "#LIST\n",
    "list1=[i for i in range(10)]\n",
    "out_file_name = \"data_int.txt\"\n",
    "with open(out_file_name, 'a') as outfile:\n",
    "    outfile.write(str(list1)+ '\\n')\n",
    "!cat data_int.txt\n",
    "#MATRIX\n",
    "mat = np.ones((5, 5))\n",
    "with open(out_file_name, 'a') as outfile:\n",
    "        outfile.write(str(mat)+ '\\n')\n",
    "!cat data_int.txt\n",
    "\n",
    "import csv\n",
    "# CONVERT TO CVS\n",
    "file_name = \"data_int.txt\"\n",
    "\n",
    "\n",
    "\n"
   ]
  },
  {
   "cell_type": "markdown",
   "metadata": {},
   "source": [
    "2\\. Load the file *user_data.json*, which can be found at:\n",
    "\n",
    "- https://www.dropbox.com/s/sz5klcdpckc39hd/user_data.json\n",
    "\n",
    "and filter the data by the \"CreditCardType\" when it equals to \"American Express\". Than save the data to a new CSV file."
   ]
  },
  {
   "cell_type": "code",
   "execution_count": 120,
   "metadata": {},
   "outputs": [
    {
     "name": "stdout",
     "output_type": "stream",
     "text": [
      "20\n"
     ]
    }
   ],
   "source": [
    "#!wget https://www.dropbox.com/s/sz5klcdpckc39hd/user_data.json\n",
    "data1 = json.load(open('user_data.json'))\n",
    "df = pd.json_normalize(data1)\n",
    "df=df[df[\"CreditCardType\"]==\"American Express\"]\n",
    "df.to_csv(\"user_data.csv\")\n",
    "print(len(df))"
   ]
  },
  {
   "cell_type": "markdown",
   "metadata": {},
   "source": [
    "3\\. Load the file from this url:\n",
    "\n",
    "- https://www.dropbox.com/s/kgshemfgk22iy79/mushrooms_categorized.csv\n",
    "\n",
    "with Pandas. \n",
    "\n",
    "+ explore and print the DataFrame\n",
    "+ calculate, using `groupby()`, the average value of each feature, separately for each class\n",
    "+ save the file in a JSON format."
   ]
  },
  {
   "cell_type": "code",
   "execution_count": 70,
   "metadata": {},
   "outputs": [
    {
     "name": "stdout",
     "output_type": "stream",
     "text": [
      "CLASS 0\n",
      "cap-shape 841.6\n",
      "cap-surface 1402.6666666666667\n",
      "cap-color 420.8\n",
      "bruises 2104.0\n",
      "odor 1402.6666666666667\n",
      "gill-attachment 2104.0\n",
      "gill-spacing 2104.0\n",
      "gill-size 2104.0\n",
      "gill-color 420.8\n",
      "stalk-shape 2104.0\n",
      "stalk-root 841.6\n",
      "stalk-surface-above-ring 1052.0\n",
      "stalk-surface-below-ring 1052.0\n",
      "stalk-color-above-ring 701.3333333333334\n",
      "stalk-color-below-ring 701.3333333333334\n",
      "veil-type 4208.0\n",
      "veil-color 1402.6666666666667\n",
      "ring-number 2104.0\n",
      "ring-type 1402.6666666666667\n",
      "spore-print-color 526.0\n",
      "population 701.3333333333334\n",
      "habitat 601.1428571428571\n",
      "CLASS 1\n",
      "cap-shape 783.2\n",
      "cap-surface 979.0\n",
      "cap-color 489.5\n",
      "bruises 1958.0\n",
      "odor 559.4285714285714\n",
      "gill-attachment 1958.0\n",
      "gill-spacing 1958.0\n",
      "gill-size 1958.0\n",
      "gill-color 391.6\n",
      "stalk-shape 1958.0\n",
      "stalk-root 979.0\n",
      "stalk-surface-above-ring 979.0\n",
      "stalk-surface-below-ring 979.0\n",
      "stalk-color-above-ring 652.6666666666666\n",
      "stalk-color-below-ring 652.6666666666666\n",
      "veil-type 3916.0\n",
      "veil-color 1958.0\n",
      "ring-number 1305.3333333333333\n",
      "ring-type 979.0\n",
      "spore-print-color 783.2\n",
      "population 979.0\n",
      "habitat 652.6666666666666\n"
     ]
    }
   ],
   "source": [
    "#!wget https://www.dropbox.com/s/kgshemfgk22iy79/mushrooms_categorized.csv\n",
    "    \n",
    "file_name= \"mushrooms_categorized.csv\"\n",
    "data = pd.read_csv(file_name)\n",
    "dataCLA0=data[data[\"class\"]==0]\n",
    "dataCLA1=data[data[\"class\"]==1]\n",
    "\n",
    "list1=['cap-shape','cap-surface','cap-color','bruises','odor','gill-attachment','gill-spacing','gill-size','gill-color','stalk-shape','stalk-root','stalk-surface-above-ring','stalk-surface-below-ring','stalk-color-above-ring','stalk-color-below-ring','veil-type','veil-color','ring-number','ring-type','spore-print-color','population','habitat']\n",
    "## CLASS 0\n",
    "print(\"CLASS 0\")\n",
    "for i in list1:\n",
    "    data_0=np.mean(dataCLA0.groupby([i]).size())\n",
    "    print(i,data_0)  \n",
    "## CLASS 1\n",
    "print(\"CLASS 1\")\n",
    "for i in list1:\n",
    "    data_1=np.mean(dataCLA1.groupby([i]).size())\n",
    "    print(i,data_1)  \n",
    "    \n",
    "    \n",
    "#CONVERT TO JSON\n",
    "data.to_json(\"mushrooms_categorized.json\", orient = \"records\")"
   ]
  },
  {
   "cell_type": "markdown",
   "metadata": {},
   "source": [
    "4\\. Get the binary file named *credit_card.dat* from this address:\n",
    "\n",
    "- https://www.dropbox.com/s/8m0syw2tkul3dap/credit_card.dat\n",
    "\n",
    "and convert the data into the real credit card number, knowing that:\n",
    "- each line corresponds to a credit card number, which consists of 16 characters (which are numbers in the 0-9 range) divided in 4 blocks, with a whitespace between each block\n",
    "- each character is written using a 6 bit binary representation (including the whitespace)\n",
    "- the final 4 bits of each line are a padding used to determine the end of the line, and can be ignored\n",
    "\n",
    "*Hint*: convert the binary numbers to the decimal representation first, and then use the `chr()` function to convert the latter to a char"
   ]
  },
  {
   "cell_type": "code",
   "execution_count": 113,
   "metadata": {},
   "outputs": [
    {
     "name": "stdout",
     "output_type": "stream",
     "text": [
      "credit card 1  code number is: 55 54 52 56   53 54 55 51   51 55 55 53   50 50 55 49  \n",
      "credit card 2  code number is: 51 50 53 55   56 50 52 55   51 51 53 52   50 50 54 54  \n",
      "credit card 3  code number is: 50 55 50 50   48 48 48 49   52 48 49 49   54 54 53 50  \n",
      "credit card 4  code number is: 48 54 54 49   51 48 54 51   51 55 52 50   51 49 53 48  \n",
      "credit card 5  code number is: 48 52 51 50   49 54 48 56   49 52 54 50   52 55 52 50  \n",
      "credit card 6  code number is: 53 56 50 55   50 48 50 55   56 55 56 53   55 51 48 51  \n",
      "credit card 7  code number is: 53 55 55 52   56 53 50 56   50 48 56 55   49 49 49 55  \n",
      "credit card 8  code number is: 56 49 52 48   49 50 49 48   54 51 53 50   50 56 52 53  \n",
      "credit card 9  code number is: 53 55 54 52   49 49 51 51   55 51 48 49   55 49 48 48  \n",
      "credit card 10  code number is: 54 52 53 54   49 55 51 55   52 49 50 54   54 55 50 54  \n",
      "credit card 11  code number is: 49 50 50 56   56 54 51 49   55 51 56 50   48 48 48 48  \n",
      "credit card 12  code number is: 55 48 53 49   48 49 54 48   53 51 55 52   51 49 54 54  \n",
      "credit card 13  code number is: 48 54 49 56   51 53 56 55   49 54 51 48   54 51 55 54  \n",
      "credit card 14  code number is: 49 53 52 53   53 52 53 52   55 52 52 52   53 54 51 54  \n",
      "credit card 15  code number is: 54 55 51 53   51 49 49 54   51 50 48 50   54 56 51 52  \n",
      "credit card 16  code number is: 55 50 56 55   53 48 49 49   49 53 52 55   56 52 49 51  \n",
      "credit card 17  code number is: 55 48 51 51   50 54 48 55   51 51 50 56   52 50 48 48  \n",
      "credit card 18  code number is: 50 53 54 56   53 50 52 52   49 56 55 52   53 48 50 52  \n",
      "credit card 19  code number is: 49 54 56 52   50 50 53 51   55 53 55 48   55 49 49 56  \n",
      "credit card 20  code number is: 48 54 55 50   50 53 55 54   48 53 55 53   54 54 51 49  \n",
      "credit card 21  code number is: 54 51 51 50   56 51 53 51   56 55 56 55   49 51 52 48  \n",
      "credit card 22  code number is: 49 56 49 51   51 51 54 49   49 49 55 53   52 50 49 49  \n",
      "credit card 23  code number is: 50 52 55 55   54 52 53 48   56 56 52 48   50 51 54 56  \n",
      "credit card 24  code number is: 53 53 49 50   51 53 48 53   50 53 54 51   49 51 50 54  \n",
      "credit card 25  code number is: 51 48 56 51   55 56 56 50   48 54 50 49   48 48 50 53  \n",
      "credit card 26  code number is: 52 53 50 49   53 49 52 56   56 48 52 53   48 51 51 52  \n",
      "credit card 27  code number is: 55 53 54 51   51 54 53 52   56 55 49 51   53 55 56 55  \n",
      "credit card 28  code number is: 56 51 50 52   50 54 54 52   48 52 55 54   53 53 54 49  \n",
      "credit card 29  code number is: 48 53 54 53   50 53 48 52   55 49 54 56   51 53 49 48  \n",
      "credit card 30  code number is: 53 49 48 55   53 53 48 55   49 55 54 55   48 55 51 56  \n",
      "credit card 31  code number is: 50 52 54 50   49 56 50 49   50 52 52 56   49 52 52 51  \n",
      "credit card 32  code number is: 50 55 56 56   48 54 51 56   54 56 54 49   54 53 53 52  \n",
      "credit card 33  code number is: 53 56 53 49   53 56 55 51   53 52 55 52   48 53 52 55  \n",
      "credit card 34  code number is: 48 54 55 48   49 48 48 52   52 48 49 51   50 54 53 53  \n",
      "credit card 35  code number is: 53 56 55 52   53 53 48 54   51 48 52 56   48 56 48 54  \n",
      "credit card 36  code number is: 50 56 48 53   53 52 48 49   56 52 54 50   49 50 54 48  \n",
      "credit card 37  code number is: 53 48 56 51   56 52 48 54   54 51 49 48   49 56 54 50  \n",
      "credit card 38  code number is: 49 48 55 54   49 52 52 53   51 48 49 51   50 50 54 54  \n",
      "credit card 39  code number is: 56 52 52 48   52 56 48 52   52 56 52 52   53 50 55 55  \n",
      "credit card 40  code number is: 52 55 53 56   54 49 52 49   48 54 56 54   49 51 56 55  \n",
      "credit card 41  code number is: 55 53 56 54   48 54 55 53   48 51 49 53   50 53 54 56  \n",
      "credit card 42  code number is: 50 53 52 52   49 50 53 56   55 52 51 50   53 49 54 53  \n",
      "credit card 43  code number is: 51 52 55 52   53 48 50 51   52 52 51 52   53 54 50 54  \n",
      "credit card 44  code number is: 49 52 49 48   48 50 55 48   48 52 51 52   53 48 56 54  \n",
      "credit card 45  code number is: 55 51 49 53   52 52 52 54   49 49 48 52   52 50 49 53  \n",
      "credit card 46  code number is: 48 50 50 52   55 55 52 50   56 51 48 48   48 50 54 54  \n",
      "credit card 47  code number is: 48 49 55 48   50 55 48 48   51 49 52 53   48 54 52 48  \n",
      "credit card 48  code number is: 50 48 48 54   50 52 51 55   56 48 53 52   49 54 48 48  \n",
      "credit card 49  code number is: 56 49 52 50   52 48 53 53   49 55 55 54   48 48 50 54  \n",
      "credit card 50  code number is: 51 48 50 54   55 51 56 48   49 50 52 49   49 48 56 52  \n"
     ]
    }
   ],
   "source": [
    "#!wget https://www.dropbox.com/s/8m0syw2tkul3dap/credit_card.dat\n",
    "       \n",
    "ind=1\n",
    "dig_len=6\n",
    "with open('credit_card.dat','rb') as file:        \n",
    "    for line in file:\n",
    "        if ind==51:break\n",
    "        dig1=int(line[dig_len*0:dig_len*1],2)\n",
    "        dig2=int(line[dig_len*1:dig_len*2],2)\n",
    "        dig3=int(line[dig_len*2:dig_len*3],2)\n",
    "        dig4=int(line[dig_len*3:dig_len*4],2)\n",
    "        dig5=\" \"\n",
    "        dig11=int(line[dig_len*5:dig_len*6],2)\n",
    "        dig21=int(line[dig_len*6:dig_len*7],2)\n",
    "        dig31=int(line[dig_len*7:dig_len*8],2)\n",
    "        dig41=int(line[dig_len*8:dig_len*9],2)\n",
    "        dig51=\" \"\n",
    "        dig12=int(line[dig_len*10:dig_len*11],2)\n",
    "        dig22=int(line[dig_len*11:dig_len*12],2)\n",
    "        dig32=int(line[dig_len*12:dig_len*13],2)\n",
    "        dig42=int(line[dig_len*13:dig_len*14],2)\n",
    "        dig52=\" \"\n",
    "        dig13=int(line[dig_len*15:dig_len*16],2)\n",
    "        dig23=int(line[dig_len*16:dig_len*17],2)\n",
    "        dig33=int(line[dig_len*17:dig_len*18],2)\n",
    "        dig43=int(line[dig_len*18:dig_len*19],2)\n",
    "        dig53=\" \"\n",
    "        print(\"credit card\",ind,\" code number is:\",\n",
    "              dig1,dig2,dig3,dig4,dig5,\n",
    "              dig11,dig21,dig31,dig41,dig51,\n",
    "              dig12,dig22,dig32,dig42,dig52,\n",
    "              dig13,dig23,dig33,dig43,dig53)\n",
    "        ind+=1"
   ]
  },
  {
   "cell_type": "markdown",
   "metadata": {},
   "source": [
    "5\\. **Optional**: load the remote file:\n",
    "\n",
    "- https://www.dropbox.com/s/aamg1apjhclecka/regression_generated.csv\n",
    "\n",
    "with Pandas and create a scatter plot with all possible combinations of the following features:\n",
    "    \n",
    "  + features_1\n",
    "  + features_2\n",
    "  + features_3"
   ]
  },
  {
   "cell_type": "code",
   "execution_count": null,
   "metadata": {},
   "outputs": [],
   "source": []
  }
 ],
 "metadata": {
  "kernelspec": {
   "display_name": "Python 3",
   "language": "python",
   "name": "python3"
  },
  "language_info": {
   "codemirror_mode": {
    "name": "ipython",
    "version": 3
   },
   "file_extension": ".py",
   "mimetype": "text/x-python",
   "name": "python",
   "nbconvert_exporter": "python",
   "pygments_lexer": "ipython3",
   "version": "3.8.8"
  }
 },
 "nbformat": 4,
 "nbformat_minor": 2
}
